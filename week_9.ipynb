{
  "nbformat": 4,
  "nbformat_minor": 0,
  "metadata": {
    "colab": {
      "provenance": [],
      "include_colab_link": true
    },
    "kernelspec": {
      "name": "python3",
      "display_name": "Python 3"
    },
    "language_info": {
      "name": "python"
    }
  },
  "cells": [
    {
      "cell_type": "markdown",
      "metadata": {
        "id": "view-in-github",
        "colab_type": "text"
      },
      "source": [
        "<a href=\"https://colab.research.google.com/github/dsmaroof/ds1002-ds3zj/blob/main/week_9.ipynb\" target=\"_parent\"><img src=\"https://colab.research.google.com/assets/colab-badge.svg\" alt=\"Open In Colab\"/></a>"
      ]
    },
    {
      "cell_type": "markdown",
      "source": [
        "# Homework - Week 9\n",
        "\n",
        "Complete the following blocks as specified in the directions. Run each cell to return the desired output. Save your notebook back to your GitHub repository and submit the GitHub URL to your notebook for review."
      ],
      "metadata": {
        "id": "phbaQTT5gy8A"
      }
    },
    {
      "cell_type": "markdown",
      "source": [
        "*italicized text*## Functions\n",
        "\n",
        "In the cell below define a function that takes one parameter (in the form of a list) called `names` and returns a simple greeting for each name, such as\n",
        "\n",
        "    \"Hello Natasha, it's so nice to meet you\"\n",
        "    \"Hello Sid, it's so nice to meet you\"\n",
        "\n",
        "Define the function and run it, and in another cell below call the function populated with a var of a list of names."
      ],
      "metadata": {
        "id": "38Pg39pMrDua"
      }
    },
    {
      "cell_type": "code",
      "source": [
        "\n",
        "greetings_list = []\n",
        "def names_function(names):\n",
        "  # The only data structure in the list should be a string\n",
        "  for name in names:\n",
        "    greeting = \"Hello \" + name + \", it's so nice to meet you\"\n",
        "    greetings_list.append(greeting)\n",
        "  return greetings_list\n"
      ],
      "metadata": {
        "id": "kdFLCHtOg53p"
      },
      "execution_count": 9,
      "outputs": []
    },
    {
      "cell_type": "code",
      "source": [
        "# Let's call our function names_function\n",
        "\n",
        "names_list = [\"Abby\", \"Brenda\", \"Carl\"]\n",
        "\n",
        "print(names_function(names_list))\n"
      ],
      "metadata": {
        "id": "JlNPe_XUsmog",
        "colab": {
          "base_uri": "https://localhost:8080/"
        },
        "outputId": "b6994c55-063e-447b-9db8-f3679125692a"
      },
      "execution_count": 10,
      "outputs": [
        {
          "output_type": "stream",
          "name": "stdout",
          "text": [
            "[\"Hello Abby, it's so nice to meet you\", \"Hello Brenda, it's so nice to meet you\", \"Hello Carl, it's so nice to meet you\"]\n"
          ]
        }
      ]
    },
    {
      "cell_type": "markdown",
      "source": [
        "Using the following list, pass it into a function you define that will evaluate the list and return a count of how many items is in it. Be creative.\n",
        "\n",
        "```\n",
        "mylist = [\"Toronto\",\"Buffalo\",\"Syracuse\",\"Albany\",\"Schenectady\",\"Brooklyn\",\"Rome\",\"Ithaca\"]\n",
        "```"
      ],
      "metadata": {
        "id": "mXqNACpkrdUZ"
      }
    },
    {
      "cell_type": "code",
      "source": [
        "#\n",
        "mylist = [\"Toronto\",\"Buffalo\",\"Syracuse\",\"Albany\",\"Schenectady\",\"Brooklyn\",\"Rome\",\"Ithaca\"]\n",
        "\n",
        "def count_function(mylist):\n",
        "  count = 0\n",
        "  for city in mylist:\n",
        "    count += 1\n",
        "  return count\n",
        "\n",
        "count_function(mylist)\n",
        ""
      ],
      "metadata": {
        "id": "mvxOzRSisg0a",
        "colab": {
          "base_uri": "https://localhost:8080/"
        },
        "outputId": "42209f22-8969-48b4-9882-07b33989527a"
      },
      "execution_count": 13,
      "outputs": [
        {
          "output_type": "execute_result",
          "data": {
            "text/plain": [
              "8"
            ]
          },
          "metadata": {},
          "execution_count": 13
        }
      ]
    },
    {
      "cell_type": "markdown",
      "source": [
        "## Input Validation\n",
        "\n",
        "Write a function below that defines two input parameters as `bool` and returns a `bool`.\n",
        "In the cell below that, populate two variables with two different bools (True and False)\n",
        "and pass them into a call of your function."
      ],
      "metadata": {
        "id": "YU7FXSCXsFab"
      }
    },
    {
      "cell_type": "code",
      "source": [
        "#\n",
        "\n",
        "def bool_function(var1: bool, var2: bool) -> bool:\n",
        "  return var1, var2"
      ],
      "metadata": {
        "id": "DGMJZjlysfHU"
      },
      "execution_count": 19,
      "outputs": []
    },
    {
      "cell_type": "code",
      "source": [
        "var1 = True\n",
        "var2 = False\n",
        "\n",
        "bool_function(var1, var2)"
      ],
      "metadata": {
        "colab": {
          "base_uri": "https://localhost:8080/"
        },
        "id": "gPM-mCJJQeUo",
        "outputId": "78abce1a-190b-4661-beef-84b8d73854c1"
      },
      "execution_count": 21,
      "outputs": [
        {
          "output_type": "execute_result",
          "data": {
            "text/plain": [
              "tuple"
            ]
          },
          "metadata": {},
          "execution_count": 21
        }
      ]
    },
    {
      "cell_type": "markdown",
      "source": [
        "## Global Variables\n",
        "\n",
        "Define a global variable and populate it with a data type (int, str, bool, float, etc.)"
      ],
      "metadata": {
        "id": "xXZTr5fdsd5M"
      }
    },
    {
      "cell_type": "code",
      "source": [
        "\n",
        "\n",
        "my_dogs_name = \"Shamir\"\n",
        "\n",
        "print(type(my_dogs_name))\n"
      ],
      "metadata": {
        "id": "HN8CFLVRs6_L",
        "colab": {
          "base_uri": "https://localhost:8080/"
        },
        "outputId": "b67428c2-aa8b-4278-92b4-7b2d7f2aec71"
      },
      "execution_count": 24,
      "outputs": [
        {
          "output_type": "stream",
          "name": "stdout",
          "text": [
            "<class 'str'>\n"
          ]
        }
      ]
    },
    {
      "cell_type": "markdown",
      "source": [
        "Now create a function that prints out the global variable. Call the function and display the value of the var."
      ],
      "metadata": {
        "id": "G1Auc6l1s8F6"
      }
    },
    {
      "cell_type": "code",
      "source": [
        "#\n",
        "\n",
        "def global_function():\n",
        "  print(my_dogs_name)\n",
        "\n",
        "global_function()\n"
      ],
      "metadata": {
        "id": "Q6O0Ep_wtBWJ",
        "colab": {
          "base_uri": "https://localhost:8080/"
        },
        "outputId": "900be2fa-9725-4351-ce2d-82ccfac930b2"
      },
      "execution_count": 25,
      "outputs": [
        {
          "output_type": "stream",
          "name": "stdout",
          "text": [
            "Shamir\n"
          ]
        }
      ]
    },
    {
      "cell_type": "markdown",
      "source": [
        "Now create a function that creates its own global var and populates it.\n",
        "Call the function and then print out the global var from outside of the function."
      ],
      "metadata": {
        "id": "IN2TRQI8tCC4"
      }
    },
    {
      "cell_type": "code",
      "source": [
        "#\n",
        "def create_a_global_var():\n",
        "  global global_var\n",
        "  global_var = \"hi\"\n",
        "\n",
        "\n",
        "create_a_global_var()\n",
        "\n",
        "print(global_var)"
      ],
      "metadata": {
        "id": "Oz4rnmfTtKen",
        "colab": {
          "base_uri": "https://localhost:8080/"
        },
        "outputId": "34759ff8-493d-4e13-e0eb-5f302bf06e3a"
      },
      "execution_count": 36,
      "outputs": [
        {
          "output_type": "stream",
          "name": "stdout",
          "text": [
            "hi\n"
          ]
        }
      ]
    },
    {
      "cell_type": "markdown",
      "source": [
        "Finally, write a function that updates the value of the global var you defined 3 cells above.\n",
        "\n",
        "1. Within the function, print out the global var you defined 3 cells above.\n",
        "2. Update the global var to have a new value.\n",
        "3. Within the function, print the new value of the global var.\n",
        "\n",
        "Call the function and once more print out the value of the global var from outside of the function."
      ],
      "metadata": {
        "id": "jv0dtym0tLZn"
      }
    },
    {
      "cell_type": "code",
      "source": [
        "#\n",
        "\n",
        "def create_a_global_var_updated():\n",
        "  global global_var\n",
        "  print(global_var)\n",
        "  global_var = \"bye\"\n",
        "  print(global_var)\n",
        "\n",
        "create_a_global_var_updated()\n",
        "print(global_var)"
      ],
      "metadata": {
        "id": "pnX-hfKouLcG",
        "colab": {
          "base_uri": "https://localhost:8080/"
        },
        "outputId": "c8099ec2-c8d1-44ea-ae86-7ea14765ff66"
      },
      "execution_count": 37,
      "outputs": [
        {
          "output_type": "stream",
          "name": "stdout",
          "text": [
            "hi\n",
            "bye\n",
            "bye\n"
          ]
        }
      ]
    }
  ]
}